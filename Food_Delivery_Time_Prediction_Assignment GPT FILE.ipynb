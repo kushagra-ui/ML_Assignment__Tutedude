
{
 "cells": [
  {
   "cell_type": "markdown",
   "metadata": {},
   "source": [
    "# Food Delivery Time Prediction\n",
    "## Machine Learning Assignment\n",
    "### Data Preprocessing, EDA, Linear & Logistic Regression"
   ]
  },
  {
   "cell_type": "code",
   "execution_count": null,
   "metadata": {},
   "outputs": [],
   "source": [
    "import pandas as pd\n",
    "import numpy as np\n",
    "import seaborn as sns\n",
    "import matplotlib.pyplot as plt\n",
    "from sklearn.model_selection import train_test_split\n",
    "from sklearn.preprocessing import StandardScaler, LabelEncoder\n",
    "from sklearn.linear_model import LinearRegression, LogisticRegression\n",
    "from sklearn.metrics import mean_squared_error, r2_score, mean_absolute_error, confusion_matrix, classification_report, accuracy_score, roc_curve, auc\n",
    "\n",
    "# Load Dataset\n",
    "df = pd.read_csv('Food_Delivery_Time_Prediction.csv')"
   ]
  },
  {
   "cell_type": "code",
   "execution_count": null,
   "metadata": {},
   "outputs": [],
   "source": [
    "# Step 1: Data Preprocessing\n",
    "df = df.dropna()\n",
    "\n",
    "# Encoding Categorical Variables\n",
    "le = LabelEncoder()\n",
    "for col in ['Weather_Conditions', 'Traffic_Conditions', 'Vehicle_Type', 'Order_Priority', 'Order_Time']:\n",
    "    df[col] = le.fit_transform(df[col])\n",
    "\n",
    "# Normalize/Standardize Numeric Columns\n",
    "scaler = StandardScaler()\n",
    "numeric_cols = ['Distance', 'Delivery_Person_Experience', 'Restaurant_Rating', 'Customer_Rating', 'Order_Cost', 'Tip_Amount']\n",
    "df[numeric_cols] = scaler.fit_transform(df[numeric_cols])"
   ]
  },
  {
   "cell_type": "code",
   "execution_count": null,
   "metadata": {},
   "outputs": [],
   "source": [
    "# Step 2: Exploratory Data Analysis\n",
    "print(df.describe())\n",
    "\n",
    "plt.figure(figsize=(10,8))\n",
    "sns.heatmap(df.corr(), annot=True, cmap='coolwarm')\n",
    "plt.title('Correlation Heatmap')\n",
    "plt.show()\n",
    "\n",
    "plt.figure(figsize=(12,6))\n",
    "sns.boxplot(data=df[numeric_cols])\n",
    "plt.title('Boxplot for Numeric Features')\n",
    "plt.show()"
   ]
  },
  {
   "cell_type": "code",
   "execution_count": null,
   "metadata": {},
   "outputs": [],
   "source": [
    "# Step 3: Feature Engineering\n",
    "df['Delivery_Status'] = np.where(df['Delivery_Time'] <= df['Delivery_Time'].median(), 1, 0)"
   ]
  },
  {
   "cell_type": "code",
   "execution_count": null,
   "metadata": {},
   "outputs": [],
   "source": [
    "# Step 4: Linear Regression Model\n",
    "X = df.drop(['Order_ID', 'Customer_Location', 'Restaurant_Location', 'Delivery_Time', 'Delivery_Status'], axis=1)\n",
    "y = df['Delivery_Time']\n",
    "X_train, X_test, y_train, y_test = train_test_split(X, y, test_size=0.2, random_state=42)\n",
    "\n",
    "lr_model = LinearRegression()\n",
    "lr_model.fit(X_train, y_train)\n",
    "y_pred = lr_model.predict(X_test)\n",
    "\n",
    "print("Linear Regression Evaluation:")\n",
    "print("MSE:", mean_squared_error(y_test, y_pred))\n",
    "print("MAE:", mean_absolute_error(y_test, y_pred))\n",
    "print("R²:", r2_score(y_test, y_pred))"
   ]
  },
  {
   "cell_type": "code",
   "execution_count": null,
   "metadata": {},
   "outputs": [],
   "source": [
    "# Step 5: Logistic Regression Model\n",
    "X_cls = X\n",
    "y_cls = df['Delivery_Status']\n",
    "X_train_cls, X_test_cls, y_train_cls, y_test_cls = train_test_split(X_cls, y_cls, test_size=0.2, random_state=42)\n",
    "\n",
    "log_model = LogisticRegression(max_iter=1000)\n",
    "log_model.fit(X_train_cls, y_train_cls)\n",
    "y_pred_cls = log_model.predict(X_test_cls)\n",
    "\n",
    "print("\nLogistic Regression Evaluation:")\n",
    "print(classification_report(y_test_cls, y_pred_cls))\n",
    "print("Confusion Matrix:\n", confusion_matrix(y_test_cls, y_pred_cls))\n",
    "\n",
    "fpr, tpr, thresholds = roc_curve(y_test_cls, log_model.predict_proba(X_test_cls)[:,1])\n",
    "roc_auc = auc(fpr, tpr)\n",
    "plt.figure()\n",
    "plt.plot(fpr, tpr, color='darkorange', lw=2, label='ROC curve (area = %0.2f)' % roc_auc)\n",
    "plt.plot([0, 1], [0, 1], color='navy', lw=2, linestyle='--')\n",
    "plt.xlabel('False Positive Rate')\n",
    "plt.ylabel('True Positive Rate')\n",
    "plt.title('Receiver Operating Characteristic')\n",
    "plt.legend(loc='lower right')\n",
    "plt.show()"
   ]
  },
  {
   "cell_type": "markdown",
   "metadata": {},
   "source": [
    "## Actionable Insights:\n",
    "- Optimize delivery routes based on distance and traffic conditions.\n",
    "- Allocate experienced delivery personnel during peak hours.\n",
    "- Monitor weather conditions to set realistic delivery expectations."
   ]
  }
 ],
 "metadata": {
  "kernelspec": {
   "display_name": "Python 3",
   "language": "python",
   "name": "python3"
  },
  "language_info": {
   "name": "python",
   "version": "3.8"
  }
 },
 "nbformat": 4,
 "nbformat_minor": 2
}
